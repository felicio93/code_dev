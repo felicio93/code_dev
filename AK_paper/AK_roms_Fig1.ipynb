{
 "cells": [
  {
   "cell_type": "markdown",
   "id": "ea8125d3-64d2-44f2-8557-8a8be805ce19",
   "metadata": {},
   "source": [
    "### Convert ROMS.nc mesh to shapefile"
   ]
  },
  {
   "cell_type": "code",
   "execution_count": 133,
   "id": "d18d2b60-f871-4bd2-9585-d4d95e757016",
   "metadata": {},
   "outputs": [],
   "source": [
    "import ocsmesh\n",
    "import xarray as xr\n",
    "import geopandas as gpd\n",
    "import numpy as np\n",
    "from shapely.geometry import Polygon, mapping"
   ]
  },
  {
   "cell_type": "code",
   "execution_count": 134,
   "id": "1f7453e5-47d6-409b-9b7c-4313da9d7fbe",
   "metadata": {},
   "outputs": [],
   "source": [
    "path_roms = r\"C:/Users/Felicio.Cassalho/Work/Modeling/AK_Project/ROMS2SCHISM/inputs_roms/Dsm4_his_0366.nc\""
   ]
  },
  {
   "cell_type": "code",
   "execution_count": 135,
   "id": "706e23d5-d87e-4357-b967-18aa47002ef8",
   "metadata": {},
   "outputs": [],
   "source": [
    "roms = xr.open_dataset(path_roms)"
   ]
  },
  {
   "cell_type": "code",
   "execution_count": 136,
   "id": "825edef5-34b7-4b7d-bcf8-c598d41b6e24",
   "metadata": {},
   "outputs": [],
   "source": [
    "# #loading the center of the cells, mask indicates if it is wet or dry\n",
    "# lats = roms.variables[\"lat_rho\"][:]\n",
    "# lons = roms.variables[\"lon_rho\"][:]\n",
    "mask_rho =  np.array(roms.variables[\"mask_rho\"][:])"
   ]
  },
  {
   "cell_type": "code",
   "execution_count": 137,
   "id": "cc771ffd-5262-470c-b326-0602dd8e575f",
   "metadata": {},
   "outputs": [],
   "source": [
    "#loading the vertices of the cells, mask indicates if it is wet or dry\n",
    "lats_psi = np.array(roms.variables[\"lat_psi\"][:])\n",
    "lons_psi = np.array(roms.variables[\"lon_psi\"][:])+360\n",
    "mask_psi =  np.array(roms.variables[\"mask_psi\"][:])"
   ]
  },
  {
   "cell_type": "code",
   "execution_count": 138,
   "id": "c823dd25-c006-441e-88b9-799f4bd415b4",
   "metadata": {},
   "outputs": [],
   "source": [
    "# #loading the u and v of the cells, mask indicates if it is wet or dry\n",
    "# lat_u =  roms.variables[\"lat_u\"][:]\n",
    "# lon_u =  roms.variables[\"lon_u\"][:]\n",
    "# mask_u = roms.variables[\"mask_u\"][:]\n",
    "# lat_v =  roms.variables[\"lat_v\"][:]\n",
    "# lon_v =  roms.variables[\"lon_v\"][:]\n",
    "# mask_v = roms.variables[\"mask_v\"][:]"
   ]
  },
  {
   "cell_type": "code",
   "execution_count": null,
   "id": "4ca5c39d-1ad0-4338-8cbc-1f99df798808",
   "metadata": {},
   "outputs": [],
   "source": []
  },
  {
   "cell_type": "code",
   "execution_count": 139,
   "id": "f1f68f60-2e48-4e34-9ac0-bf816c9da51b",
   "metadata": {},
   "outputs": [],
   "source": [
    "poly=[]\n",
    "wetdry=[]\n",
    "for i in range(len(mask_psi)):\n",
    "    # print(i,len(mask_psi))\n",
    "    for j in range(len(mask_psi[i])):\n",
    "        # print(i,j, mask_psi.shape)\n",
    "        if i < len(mask_psi)-1 and j < len(mask_psi[i])-1:\n",
    "            p = [(lons_psi[i][j],lats_psi[i][j]),\n",
    "                 (lons_psi[i][j+1],lats_psi[i][j+1]),\n",
    "                 (lons_psi[i+1][j+1],lats_psi[i+1][j+1]),\n",
    "                 (lons_psi[i+1][j],lats_psi[i+1][j]),\n",
    "                 (lons_psi[i][j],lats_psi[i][j]),\n",
    "                ]\n",
    "            poly.append(p)\n",
    "        if i < len(mask_psi)-1 and j < len(mask_psi[i])-1:\n",
    "            wetdry.append(mask_rho[i+1][j+1])\n",
    "\n"
   ]
  },
  {
   "cell_type": "code",
   "execution_count": 140,
   "id": "06997410-2eb3-4b99-8b34-da4f55ae6976",
   "metadata": {},
   "outputs": [],
   "source": [
    "# To determine if the polygon is wet or dry we adopted the criteria:\n",
    "# if the rho and the psi vertices of the polygon are wet, then the whole polygon is wet\n",
    "# maybe the correct when it to consider wet if all vertices (rho, psi, u, and v) are wet, I don't know,\n",
    "wetdry_final=[]\n",
    "for i in range(len(wetdry)):\n",
    "    if wetdry[i] == 1:\n",
    "        wetdry_final.append(1)\n",
    "\n",
    "    else:\n",
    "        wetdry_final.append(0)    "
   ]
  },
  {
   "cell_type": "code",
   "execution_count": 141,
   "id": "c11f6544-dfcc-4c4e-8105-b54a68768b04",
   "metadata": {},
   "outputs": [],
   "source": [
    "# This loop drops all polygon that are considered dry based on the criteria above\n",
    "poly_final = []\n",
    "for i in range(len(wetdry_final)):\n",
    "    if wetdry_final[i] == 1:\n",
    "        poly_final.append(poly[i])\n",
    "               "
   ]
  },
  {
   "cell_type": "code",
   "execution_count": 142,
   "id": "c56bcaa7-470e-4fad-9083-bf0ddc30cdb7",
   "metadata": {},
   "outputs": [],
   "source": [
    "polygon = [Polygon(i) for i in poly_final]"
   ]
  },
  {
   "cell_type": "code",
   "execution_count": 143,
   "id": "65704db3-55b5-4b6e-8558-599d0e49bb69",
   "metadata": {},
   "outputs": [],
   "source": [
    "gdf = gpd.GeoDataFrame(\n",
    "        geometry = polygon,crs=4326)"
   ]
  },
  {
   "cell_type": "code",
   "execution_count": 144,
   "id": "9cddf46a-d966-4b71-ae58-311196970ee9",
   "metadata": {},
   "outputs": [],
   "source": [
    "gdf.to_file(r'C:\\Users\\Felicio.Cassalho\\Work\\Modeling\\AK_Project\\AK_Paper\\Fig1\\ak_roms_1.shp')"
   ]
  },
  {
   "cell_type": "code",
   "execution_count": null,
   "id": "5b4b1add-bfcb-46a1-b357-c8b807ba7683",
   "metadata": {},
   "outputs": [],
   "source": []
  },
  {
   "cell_type": "code",
   "execution_count": null,
   "id": "8d70123f-664b-419d-b157-bb39d8cf9dea",
   "metadata": {},
   "outputs": [],
   "source": []
  },
  {
   "cell_type": "code",
   "execution_count": null,
   "id": "bda63c45-4697-4cb2-b4c1-e28e76f3ddc2",
   "metadata": {},
   "outputs": [],
   "source": []
  }
 ],
 "metadata": {
  "kernelspec": {
   "display_name": "ocsmesh_paper",
   "language": "python",
   "name": "ocsmesh_paper"
  },
  "language_info": {
   "codemirror_mode": {
    "name": "ipython",
    "version": 3
   },
   "file_extension": ".py",
   "mimetype": "text/x-python",
   "name": "python",
   "nbconvert_exporter": "python",
   "pygments_lexer": "ipython3",
   "version": "3.12.8"
  }
 },
 "nbformat": 4,
 "nbformat_minor": 5
}
