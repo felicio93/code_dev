{
 "cells": [
  {
   "cell_type": "markdown",
   "id": "2474a0dd-dadd-41f3-b18f-682cfda27563",
   "metadata": {},
   "source": [
    "### Convert SCHISM mesh to shapefile"
   ]
  },
  {
   "cell_type": "code",
   "execution_count": 164,
   "id": "49d7a44c-4c0a-42e1-8719-f2552d8a34bf",
   "metadata": {},
   "outputs": [],
   "source": [
    "import ocsmesh\n",
    "import xarray as xr\n",
    "import geopandas as gpd\n",
    "import numpy as np\n",
    "from shapely.geometry import Polygon, mapping"
   ]
  },
  {
   "cell_type": "code",
   "execution_count": 165,
   "id": "3da2d974-ec82-4e04-baa5-0868d77efdad",
   "metadata": {},
   "outputs": [],
   "source": [
    "# def convert_to_360(longitude):\n",
    "#     if longitude < 0:\n",
    "#         return longitude + 360\n",
    "#     else:\n",
    "#         return longitude"
   ]
  },
  {
   "cell_type": "code",
   "execution_count": 166,
   "id": "aaf9ac1a-3c81-4ac4-a910-75f4581f44ff",
   "metadata": {},
   "outputs": [],
   "source": [
    "path_schism = r\"C:\\Users\\Felicio.Cassalho\\Work\\Modeling\\AK_Project\\model_runs\\2019_07_01_12+120\\R07\\run/hgrid.gr3\""
   ]
  },
  {
   "cell_type": "code",
   "execution_count": 167,
   "id": "f5c4af2c-ad70-4cb0-ba8f-d378b936596f",
   "metadata": {},
   "outputs": [],
   "source": [
    "mesh = ocsmesh.Mesh.open(path_schism, crs=4326)"
   ]
  },
  {
   "cell_type": "code",
   "execution_count": 168,
   "id": "939d6e56-74de-4589-add9-eb0fcd8f8bc3",
   "metadata": {},
   "outputs": [],
   "source": [
    "coords = mesh.vert2['coord']\n",
    "tria = mesh.tria3['index']\n",
    "quad = mesh.quad4['index']"
   ]
  },
  {
   "cell_type": "code",
   "execution_count": 169,
   "id": "b4a036ec-1be4-47fc-b7da-bccda6404ef4",
   "metadata": {},
   "outputs": [],
   "source": [
    "# x = [convert_to_360(i) for i in coords[:,0]]\n",
    "# coords[:,0] = x\n",
    "coords[:,0] = coords[:,0]#-360"
   ]
  },
  {
   "cell_type": "code",
   "execution_count": 170,
   "id": "7ebc79e1-8c19-4cd0-bbd8-ffc96def95bc",
   "metadata": {},
   "outputs": [],
   "source": [
    "poly = []\n",
    "for t in tria:\n",
    "    p = coords[t]\n",
    "    poly.append(p)\n",
    "for q in quad:\n",
    "    p = coords[q]\n",
    "    poly.append(p)"
   ]
  },
  {
   "cell_type": "code",
   "execution_count": 171,
   "id": "dd61d5a0-854f-4c5d-acf3-0e702eb2ac90",
   "metadata": {},
   "outputs": [],
   "source": [
    "polygon = [Polygon(i) for i in poly]"
   ]
  },
  {
   "cell_type": "code",
   "execution_count": 172,
   "id": "4a8e29ad-b2a1-417a-8f5f-48449107f4bf",
   "metadata": {},
   "outputs": [],
   "source": [
    "gdf = gpd.GeoDataFrame(\n",
    "        geometry = polygon,\n",
    "        crs=4326\n",
    "        )"
   ]
  },
  {
   "cell_type": "code",
   "execution_count": null,
   "id": "c426779c-f732-4470-8d37-b68af0aa862a",
   "metadata": {},
   "outputs": [],
   "source": []
  },
  {
   "cell_type": "code",
   "execution_count": 173,
   "id": "d18f3e69-40dd-47ba-9079-dd963c9a78ac",
   "metadata": {},
   "outputs": [],
   "source": [
    "gdf.to_file(r'C:\\Users\\Felicio.Cassalho\\Work\\Modeling\\AK_Project\\AK_Paper\\Fig1\\ak_schism_1.shp')"
   ]
  },
  {
   "cell_type": "markdown",
   "id": "daa34fb1-70ba-430c-a392-6c1569450fca",
   "metadata": {},
   "source": [
    "#### Domain:"
   ]
  },
  {
   "cell_type": "code",
   "execution_count": 104,
   "id": "b87abd48-3c1e-4c1d-bd70-327967cdb0f2",
   "metadata": {},
   "outputs": [],
   "source": [
    "mesh = ocsmesh.Mesh.open(path_schism, crs=4326)\n",
    "poly_mask = ocsmesh.utils.get_mesh_polygons(mesh.msh_t)\n",
    "gdf = gpd.GeoDataFrame(geometry=[poly_mask], crs=4326)\n",
    "gdf.to_file(r'C:\\Users\\Felicio.Cassalho\\Work\\Modeling\\AK_Project\\AK_Paper\\Fig1\\ak_mask.shp')"
   ]
  },
  {
   "cell_type": "code",
   "execution_count": null,
   "id": "d1ab9531-52d2-4707-a771-133a16cb0fc7",
   "metadata": {},
   "outputs": [],
   "source": []
  }
 ],
 "metadata": {
  "kernelspec": {
   "display_name": "ocsmesh_paper",
   "language": "python",
   "name": "ocsmesh_paper"
  },
  "language_info": {
   "codemirror_mode": {
    "name": "ipython",
    "version": 3
   },
   "file_extension": ".py",
   "mimetype": "text/x-python",
   "name": "python",
   "nbconvert_exporter": "python",
   "pygments_lexer": "ipython3",
   "version": "3.12.8"
  }
 },
 "nbformat": 4,
 "nbformat_minor": 5
}
