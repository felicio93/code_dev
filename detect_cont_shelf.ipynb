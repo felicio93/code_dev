{
 "cells": [
  {
   "cell_type": "code",
   "execution_count": 7,
   "id": "b9b94de9-a606-4bbf-a882-03faa0e423db",
   "metadata": {},
   "outputs": [],
   "source": [
    "from rasterio.features import shapes\n",
    "from shapely.geometry import shape, MultiPolygon, Polygon, box\n",
    "import geopandas as gpd\n",
    "import ocsmesh\n",
    "from osgeo import gdal\n",
    "import rasterio\n",
    "import pandas as pd"
   ]
  },
  {
   "cell_type": "code",
   "execution_count": 8,
   "id": "8e8477d1-f13b-4183-9f4c-64b0197c0914",
   "metadata": {},
   "outputs": [],
   "source": [
    "def remove_interiors(poly):\n",
    "    \"\"\"\n",
    "    Close polygon holes by limitation to the exterior ring.\n",
    "\n",
    "    Arguments\n",
    "    ---------\n",
    "    poly: shapely.geometry.Polygon\n",
    "        Input shapely Polygon\n",
    "\n",
    "    Returns\n",
    "    ---------\n",
    "    Polygon without any interior holes\n",
    "    \"\"\"\n",
    "    if poly.interiors:\n",
    "        return Polygon(list(poly.exterior.coords))\n",
    "    else:\n",
    "        return poly\n",
    "\n",
    "\n",
    "def pop_largest(gs):\n",
    "    \"\"\"\n",
    "    Pop the largest polygon off of a GeoSeries\n",
    "\n",
    "    Arguments\n",
    "    ---------\n",
    "    gs: geopandas.GeoSeries\n",
    "        Geoseries of Polygon or MultiPolygon objects\n",
    "\n",
    "    Returns\n",
    "    ---------\n",
    "    Largest Polygon in a Geoseries\n",
    "    \"\"\"\n",
    "    geoms = [g.area for g in gs]\n",
    "    return geoms.pop(geoms.index(max(geoms)))\n",
    "\n",
    "\n",
    "def close_holes(geom):\n",
    "    \"\"\"\n",
    "    Remove holes in a polygon geometry\n",
    "\n",
    "    Arguments\n",
    "    ---------\n",
    "    gseries: geopandas.GeoSeries\n",
    "        Geoseries of Polygon or MultiPolygon objects\n",
    "\n",
    "    Returns\n",
    "    ---------\n",
    "    Largest Polygon in a Geoseries\n",
    "    \"\"\"\n",
    "    if isinstance(geom, MultiPolygon):\n",
    "        ser = gpd.GeoSeries([remove_interiors(g) for g in geom])\n",
    "        big = pop_largest(ser)\n",
    "        outers = ser.loc[~ser.within(big)].tolist()\n",
    "        if outers:\n",
    "            return MultiPolygon([big] + outers)\n",
    "        return Polygon(big)\n",
    "    if isinstance(geom, Polygon):\n",
    "        return remove_interiors(geom)"
   ]
  },
  {
   "cell_type": "code",
   "execution_count": 9,
   "id": "49952b69-89b1-4e59-916b-cdc5b01a06f3",
   "metadata": {},
   "outputs": [],
   "source": [
    "def eddy(path,hmax,outdir):\n",
    "    r = ocsmesh.Raster(path)\n",
    "\n",
    "    shps = shapes(r.get_values(band=True), transform=r.src.transform)\n",
    "    polys = []\n",
    "    sids = []  # For contours this will be elev levels\n",
    "    for shp, sid in shps:\n",
    "        if sid<=hmax:\n",
    "            polys.append(shape(shp))\n",
    "            sids.append(sid)\n",
    "\n",
    "    gdf = gpd.GeoDataFrame(\n",
    "        geometry=polys,\n",
    "        data={'sid': sids},\n",
    "        crs=r.crs\n",
    "    ).dropna().dissolve()\n",
    "\n",
    "    gdf.to_file(outdir)"
   ]
  },
  {
   "cell_type": "code",
   "execution_count": 10,
   "id": "8812112d-9f9c-4fe3-a2cc-108f11550c69",
   "metadata": {},
   "outputs": [],
   "source": [
    "def land_mask(path,hmin,outdir):\n",
    "    r = ocsmesh.Raster(path)\n",
    "\n",
    "    shps = shapes(r.get_values(band=True), transform=r.src.transform)\n",
    "    polys = []\n",
    "    sids = []  # For contours this will be elev levels\n",
    "    for shp, sid in shps:\n",
    "        if sid>=hmin:\n",
    "            polys.append(shape(shp))\n",
    "            sids.append(sid)\n",
    "\n",
    "    gdf = gpd.GeoDataFrame(\n",
    "        geometry=polys,\n",
    "        data={'sid': sids},\n",
    "        crs=r.crs\n",
    "    ).dropna().dissolve()\n",
    "\n",
    "    gdf.to_file(outdir)"
   ]
  },
  {
   "cell_type": "code",
   "execution_count": 11,
   "id": "26060b1a-6929-4802-8193-700c9e96716b",
   "metadata": {},
   "outputs": [],
   "source": [
    "def get_survey_shapes(path,hmax,hmin,outdir):\n",
    "    r = ocsmesh.Raster(path)\n",
    "\n",
    "    shps = shapes(r.get_values(band=True), transform=r.src.transform)\n",
    "    polys = []\n",
    "    sids = []  # For contours this will be elev levels\n",
    "    for shp, sid in shps:\n",
    "        if sid>=hmin and sid<=hmax:\n",
    "            polys.append(shape(shp))\n",
    "            sids.append(sid)\n",
    "\n",
    "    gdf = gpd.GeoDataFrame(\n",
    "        geometry=polys,\n",
    "        data={'sid': sids},\n",
    "        crs=r.crs\n",
    "    ).dissolve(by='sid').dropna()#.dropna()#.dissolve()\n",
    "\n",
    "    gdf.to_file(outdir)"
   ]
  },
  {
   "cell_type": "code",
   "execution_count": 15,
   "id": "b01a6988-868f-4c6c-8e23-f55ed6c666fe",
   "metadata": {},
   "outputs": [],
   "source": [
    "def calculate_slope(DEM):\n",
    "    gdal.DEMProcessing('slope.tif', DEM, 'slope')\n",
    "    with rasterio.open('slope.tif') as dataset:\n",
    "        slope=dataset.read(1)\n",
    "    return slope\n",
    "    gdal.DEMProcessing('slope.tif', DEM, 'slope',scale=111120)\n",
    "    with rasterio.open('slope.tif') as dataset:\n",
    "        slope=dataset.read(1)\n",
    "    return slope"
   ]
  },
  {
   "cell_type": "markdown",
   "id": "76b78e8c-f9a8-4224-881b-cf8ef3f07739",
   "metadata": {},
   "source": [
    "## Find non-eddy zones:"
   ]
  },
  {
   "cell_type": "code",
   "execution_count": 16,
   "id": "bfac6c1b-738d-4262-9341-5ef204fc48d8",
   "metadata": {},
   "outputs": [],
   "source": [
    "hmax=0\n",
    "hmin=-1000\n",
    "interv=10"
   ]
  },
  {
   "cell_type": "code",
   "execution_count": 17,
   "id": "0b64f288-dd03-411b-8986-f29036bb4aff",
   "metadata": {},
   "outputs": [],
   "source": [
    "#rast_path =r\"C:\\Users\\Felicio.Cassalho\\Work\\Python_Development\\Mesh\\OCSMesh_Contributions\\ocean_mesh\\dem\\smaller_domain\\GEBCO_28_Oct_2024_cea7192fe05d/gebco_2024_n26.0_s22.0_w-82.0_e-78.0.tif\"\n",
    "rast_path =r\"C:/Users/Felicio.Cassalho/Work/Python_Development/Mesh/OCSMesh_Contributions/ocean_mesh/dem/small_domain/GEBCO_28_Oct_2024_994bac2e22a9/gebco_2024_n28.0_s15.0_w-90.0_e-73.0.tif\""
   ]
  },
  {
   "cell_type": "code",
   "execution_count": 18,
   "id": "6002a884-7d76-4d06-85c6-0df747392fc0",
   "metadata": {},
   "outputs": [],
   "source": [
    "#calculate_slope(rast_path)"
   ]
  },
  {
   "cell_type": "code",
   "execution_count": 19,
   "id": "e5ef15eb-1995-4ca9-95ab-0304b1e374e5",
   "metadata": {},
   "outputs": [],
   "source": [
    "slope_path=r\"C:\\Users\\Felicio.Cassalho\\Work\\Python_Development\\Mesh\\OCSMesh_Contributions\\ocean_mesh\\slope.tif\""
   ]
  },
  {
   "cell_type": "code",
   "execution_count": 20,
   "id": "032f1511-9555-4b4d-9a97-7ca4357f3e71",
   "metadata": {},
   "outputs": [],
   "source": [
    "outdir = r\"C:\\Users\\Felicio.Cassalho\\Work\\Python_Development\\Mesh\\OCSMesh_Contributions\\ocean_mesh\\outputs\""
   ]
  },
  {
   "cell_type": "code",
   "execution_count": 83,
   "id": "50fc49fa-a13e-41a5-981b-c714d7581f1e",
   "metadata": {},
   "outputs": [],
   "source": [
    "get_survey_shapes(path=rast_path,hmax=hmax,hmin=hmin,outdir=outdir+r\"/greater_1000_ind.shp\")"
   ]
  },
  {
   "cell_type": "code",
   "execution_count": 84,
   "id": "ff172180-5492-49c3-996c-77ad931117f2",
   "metadata": {},
   "outputs": [],
   "source": [
    "elev = gpd.read_file(r\"C:\\Users\\Felicio.Cassalho\\Work\\Python_Development\\Mesh\\OCSMesh_Contributions\\ocean_mesh\\outputs/greater_1000_ind.shp\")"
   ]
  },
  {
   "cell_type": "code",
   "execution_count": 85,
   "id": "557e2ec1-431a-469f-8310-f198fadac010",
   "metadata": {},
   "outputs": [],
   "source": [
    "for x in range(hmin,hmax,interv):\n",
    "    y=x+interv\n",
    "    elev.loc[(elev['sid'] >= x) & (elev['sid'] < y), 'range'] = f'{x}-{y}'"
   ]
  },
  {
   "cell_type": "code",
   "execution_count": 86,
   "id": "23dae2d2-075c-474d-8fa0-f561ffef3696",
   "metadata": {},
   "outputs": [],
   "source": [
    "elev = elev.dissolve(by='range').dropna()"
   ]
  },
  {
   "cell_type": "code",
   "execution_count": 87,
   "id": "e5655ba5-95c3-422f-9392-e2de75152975",
   "metadata": {},
   "outputs": [],
   "source": [
    "elev = elev.sort_values(by=['sid'],ascending=False)"
   ]
  },
  {
   "cell_type": "code",
   "execution_count": 88,
   "id": "69d6f7af-9877-4168-abb9-6f0d6123351d",
   "metadata": {},
   "outputs": [],
   "source": [
    "elev.reset_index(drop=False, inplace=True)"
   ]
  },
  {
   "cell_type": "code",
   "execution_count": 89,
   "id": "3474fb3a-45ea-4b4c-a9f6-c0cb594ef07c",
   "metadata": {},
   "outputs": [],
   "source": [
    "elev.to_file(outdir+r\"/greater_1000_by10.shp\")"
   ]
  },
  {
   "cell_type": "code",
   "execution_count": 91,
   "id": "7bf034ed-f78e-46b8-a19c-8efac2b08376",
   "metadata": {},
   "outputs": [],
   "source": [
    "import rasterio\n",
    "from rasterstats import zonal_stats\n",
    "\n",
    "# Read the raster\n",
    "with rasterio.open(slope_path) as raster:\n",
    "    affine = raster.transform\n",
    "    array = raster.read(1)"
   ]
  },
  {
   "cell_type": "code",
   "execution_count": 92,
   "id": "2a37da1d-de9d-4a20-acdd-091a9e6baa4d",
   "metadata": {},
   "outputs": [],
   "source": [
    "polygons = elev#.explode()"
   ]
  },
  {
   "cell_type": "code",
   "execution_count": 93,
   "id": "0b0b50a5-5b83-45d3-9f68-d807821f3ab3",
   "metadata": {},
   "outputs": [],
   "source": [
    "stats = zonal_stats(polygons, slope_path, affine=affine, stats=[\"median\",\"mean\"])"
   ]
  },
  {
   "cell_type": "code",
   "execution_count": 94,
   "id": "d72eb2bf-5115-4661-b7f5-1c74be53822a",
   "metadata": {},
   "outputs": [],
   "source": [
    "# Calculate percentage\n",
    "list_median,list_mean=[],[]\n",
    "for stat in stats:\n",
    "    list_median.append(stat['median'])\n",
    "    list_mean.append(stat['mean'])"
   ]
  },
  {
   "cell_type": "code",
   "execution_count": 95,
   "id": "453fd860-f10f-4199-bfe1-8deff32a319d",
   "metadata": {},
   "outputs": [],
   "source": [
    "# polygons[\"median_slope\"]=list_median\n",
    "polygons[\"mean_slope\"]=list_mean"
   ]
  },
  {
   "cell_type": "code",
   "execution_count": null,
   "id": "b03675ec-da81-4567-8bd2-edeb1d3913a6",
   "metadata": {},
   "outputs": [],
   "source": [
    "polygons"
   ]
  },
  {
   "cell_type": "code",
   "execution_count": 98,
   "id": "1cf93ac0-9ee8-4c5b-a5f3-093bf24640b1",
   "metadata": {},
   "outputs": [
    {
     "data": {
      "text/plain": [
       "<Axes: xlabel='mean_slope', ylabel='sid'>"
      ]
     },
     "execution_count": 98,
     "metadata": {},
     "output_type": "execute_result"
    },
    {
     "data": {
      "image/png": "[encoded data removed]",
      "text/plain": [
       "<Figure size 640x480 with 1 Axes>"
      ]
     },
     "metadata": {},
     "output_type": "display_data"
    }
   ],
   "source": [
    "polygons.plot.scatter(x='mean_slope', y='sid')"
   ]
  },
  {
   "cell_type": "code",
   "execution_count": 29,
   "id": "85a5fbfc-957f-4c78-8334-65054bcb8ca2",
   "metadata": {},
   "outputs": [],
   "source": [
    "# polygons = polygons.sort_values(by=['sid'],ascending=True)\n",
    "# polygons.reset_index(drop=False, inplace=True)"
   ]
  },
  {
   "cell_type": "code",
   "execution_count": 99,
   "id": "f1a49bc4-7094-45e9-bed3-953914fe16b5",
   "metadata": {},
   "outputs": [],
   "source": [
    "polygons.to_file(r\"C:\\Users\\Felicio.Cassalho\\Work\\Python_Development\\Mesh\\OCSMesh_Contributions\\ocean_mesh\\outputs/polygons.shp\")"
   ]
  },
  {
   "cell_type": "code",
   "execution_count": 47,
   "id": "79ae6b75-6d52-4911-976c-8a93a770b6b1",
   "metadata": {},
   "outputs": [],
   "source": [
    "polygons = gpd.read_file(r\"C:\\Users\\Felicio.Cassalho\\Work\\Python_Development\\Mesh\\OCSMesh_Contributions\\ocean_mesh\\outputs/polygons.shp\")"
   ]
  },
  {
   "cell_type": "code",
   "execution_count": 48,
   "id": "fa277295-cb30-46a9-88b7-a16f438811be",
   "metadata": {},
   "outputs": [
    {
     "name": "stderr",
     "output_type": "stream",
     "text": [
      "C:\\Users\\Felicio.Cassalho\\AppData\\Local\\Temp\\1\\ipykernel_5336\\2290710304.py:1: UserWarning: Geometry is in a geographic CRS. Results from 'area' are likely incorrect. Use 'GeoSeries.to_crs()' to re-project geometries to a projected CRS before this operation.\n",
      "\n",
      "  polygons[\"area\"] = polygons['geometry'].area\n"
     ]
    }
   ],
   "source": [
    "polygons[\"area\"] = polygons['geometry'].area"
   ]
  },
  {
   "cell_type": "code",
   "execution_count": 49,
   "id": "506e95e6-ed8f-4e2a-9d9f-ef8db32bdbb5",
   "metadata": {},
   "outputs": [
    {
     "data": {
      "text/plain": [
       "<Axes: xlabel='area', ylabel='sid'>"
      ]
     },
     "execution_count": 49,
     "metadata": {},
     "output_type": "execute_result"
    },
    {
     "data": {
      "image/png": "[encoded data removed]",
      "text/plain": [
       "<Figure size 640x480 with 1 Axes>"
      ]
     },
     "metadata": {},
     "output_type": "display_data"
    }
   ],
   "source": [
    "polygons.plot.scatter(x='area', y='sid')"
   ]
  },
  {
   "cell_type": "code",
   "execution_count": 50,
   "id": "f2cf3866-659a-4594-a2a7-fb7b78a5e123",
   "metadata": {},
   "outputs": [],
   "source": [
    "i = 0\n",
    "slope_count=0\n",
    "crest = 3\n",
    "while i < len(polygons):\n",
    "    # row = polygons.iloc[i]\n",
    "    if polygons.iloc[i]['mean_slope'] > 1:\n",
    "        slope_count += 1\n",
    "    else:\n",
    "        slope_count = 0\n",
    "    # print(i,slope_count)\n",
    "    if slope_count >= crest:\n",
    "        non_eddy = polygons.iloc[0:i-(crest-1)]#.dissolve()\n",
    "        \n",
    "        break\n",
    "    i += 1"
   ]
  },
  {
   "cell_type": "code",
   "execution_count": 51,
   "id": "6658e049-8bf8-4d24-9303-8ad866a4a986",
   "metadata": {},
   "outputs": [],
   "source": [
    "non_eddy.to_file(r\"C:\\Users\\Felicio.Cassalho\\Work\\Python_Development\\Mesh\\OCSMesh_Contributions\\ocean_mesh\\outputs/non_eddy.shp\")"
   ]
  },
  {
   "cell_type": "code",
   "execution_count": 52,
   "id": "5ee6d40d-240c-45e5-bf9f-7f2a696c92a8",
   "metadata": {},
   "outputs": [],
   "source": [
    "non_eddy = non_eddy.dissolve().explode()"
   ]
  },
  {
   "cell_type": "code",
   "execution_count": 53,
   "id": "ccc6207b-3bb1-4e18-b9eb-409d9073d897",
   "metadata": {},
   "outputs": [],
   "source": [
    "non_eddy.geometry = non_eddy.geometry.apply(lambda p: close_holes(p))\n",
    "non_eddy = non_eddy.dissolve().explode()\n",
    "non_eddy.to_file(outdir+r\"/non_eddy_nohole1.shp\")"
   ]
  },
  {
   "cell_type": "markdown",
   "id": "19c21886-1ba6-448a-9790-6db775909372",
   "metadata": {},
   "source": [
    "### Land mask"
   ]
  },
  {
   "cell_type": "code",
   "execution_count": 68,
   "id": "2cb71938-f326-4049-b9df-b9936d6d1baa",
   "metadata": {},
   "outputs": [],
   "source": [
    "land_min=0"
   ]
  },
  {
   "cell_type": "code",
   "execution_count": 69,
   "id": "71f2e347-451d-44df-bcc5-422370a00278",
   "metadata": {},
   "outputs": [],
   "source": [
    "land_mask(path=rast_path,hmin=land_min,outdir=outdir+r\"/land.shp\")"
   ]
  },
  {
   "cell_type": "markdown",
   "id": "d5fa60d1-db5e-40f2-b6f3-647508562300",
   "metadata": {},
   "source": [
    "## Find transition zones:"
   ]
  },
  {
   "cell_type": "code",
   "execution_count": 35,
   "id": "86a3f971-fb54-4cf7-bbc6-bec05c245606",
   "metadata": {},
   "outputs": [],
   "source": [
    "get_survey_shapes(path=slope_path,hmax=50,hmin=0,outdir=outdir+r\"/allslopes.shp\")"
   ]
  },
  {
   "cell_type": "code",
   "execution_count": 63,
   "id": "459bed94-e0c0-4d5f-bed1-3d515878db54",
   "metadata": {},
   "outputs": [],
   "source": [
    "slope = gpd.read_file(r\"C:\\Users\\Felicio.Cassalho\\Work\\Python_Development\\Mesh\\OCSMesh_Contributions\\ocean_mesh\\outputs/allslopes.shp\")"
   ]
  },
  {
   "cell_type": "code",
   "execution_count": 64,
   "id": "8a11a412-1a89-44cb-878b-2d5afeead07b",
   "metadata": {},
   "outputs": [],
   "source": [
    "slope = slope.loc[slope['sid'] >5].dissolve().explode()"
   ]
  },
  {
   "cell_type": "code",
   "execution_count": 65,
   "id": "2265c864-90c0-48d6-86b1-2dd36a838981",
   "metadata": {},
   "outputs": [],
   "source": [
    "slope.to_file(outdir+r\"/slope_morethan5.shp\")"
   ]
  },
  {
   "cell_type": "code",
   "execution_count": 66,
   "id": "01e9e346-dfac-4fd6-a197-9cbaecc3d9e8",
   "metadata": {},
   "outputs": [],
   "source": [
    "slope.geometry = slope.geometry.apply(lambda p: close_holes(p))\n",
    "slope.to_file(outdir+r\"/slope_morethan5_nohole.shp\")"
   ]
  },
  {
   "cell_type": "code",
   "execution_count": null,
   "id": "5d932af2-dc38-4ebe-a1ae-f461a8fcf766",
   "metadata": {},
   "outputs": [],
   "source": [
    "import rasterio\n",
    "from rasterstats import zonal_stats\n",
    "\n",
    "# Read the raster\n",
    "with rasterio.open(rast_path) as raster:\n",
    "    affine = raster.transform\n",
    "    array = raster.read(1)"
   ]
  },
  {
   "cell_type": "code",
   "execution_count": null,
   "id": "ceff9c8c-2aa7-46e5-b1ac-c45a607eb5b2",
   "metadata": {},
   "outputs": [],
   "source": [
    "polygons = slope.explode()\n",
    "stats = zonal_stats(polygons, array, affine=affine, stats=[\"min\",\"max\"])"
   ]
  },
  {
   "cell_type": "code",
   "execution_count": null,
   "id": "04234f59-bc41-458d-a0e3-f2b69e979036",
   "metadata": {},
   "outputs": [],
   "source": [
    "# Calculate percentage\n",
    "list_min,list_max=[],[]\n",
    "for stat in stats:\n",
    "    list_min.append(stat['min'])\n",
    "    list_max.append(stat['max'])"
   ]
  },
  {
   "cell_type": "code",
   "execution_count": null,
   "id": "29b07df1-d5a0-4fc0-9263-7307beaf6b0a",
   "metadata": {},
   "outputs": [],
   "source": [
    "polygons['min_elev']=list_min\n",
    "polygons['max_elev']=list_max"
   ]
  },
  {
   "cell_type": "code",
   "execution_count": null,
   "id": "b9918700-985a-4504-a539-0908bcd9ea58",
   "metadata": {},
   "outputs": [],
   "source": [
    "transition = polygons.loc[(polygons['max_elev'] >-100 ) & (polygons['min_elev'] < -500)]"
   ]
  },
  {
   "cell_type": "code",
   "execution_count": null,
   "id": "99505653-99a7-4df2-b4e0-f01ff46d22a9",
   "metadata": {},
   "outputs": [],
   "source": [
    "transition.to_file(outdir+r\"/transition5.shp\")"
   ]
  },
  {
   "cell_type": "code",
   "execution_count": 46,
   "id": "8679419b-fb7b-4f0f-a1fd-ae93dc7f2a92",
   "metadata": {},
   "outputs": [],
   "source": [
    "# after this I could fill all holes, and then subtract by the non-eddy regime area"
   ]
  },
  {
   "cell_type": "code",
   "execution_count": null,
   "id": "d5bebc82-d769-412d-880a-a185ab59e871",
   "metadata": {},
   "outputs": [],
   "source": []
  },
  {
   "cell_type": "markdown",
   "id": "300aec73-6d83-4bf6-a693-1f63f6027ee3",
   "metadata": {},
   "source": [
    "## Find eddy zones:"
   ]
  },
  {
   "cell_type": "code",
   "execution_count": 28,
   "id": "a93577af-a40c-4e05-8507-62aaf2a81cce",
   "metadata": {},
   "outputs": [],
   "source": [
    "eddy_max=-450"
   ]
  },
  {
   "cell_type": "code",
   "execution_count": 29,
   "id": "d7351974-1bfe-456d-95e1-03ab066bd7da",
   "metadata": {},
   "outputs": [],
   "source": [
    "eddy(path=rast_path,hmax=eddy_max,outdir=outdir+r\"/eddy450.shp\")"
   ]
  },
  {
   "cell_type": "code",
   "execution_count": 56,
   "id": "988f25bb-1825-4213-b420-c554794ba5f2",
   "metadata": {},
   "outputs": [],
   "source": [
    "eddy = gpd.read_file(r\"C:\\Users\\Felicio.Cassalho\\Work\\Python_Development\\Mesh\\OCSMesh_Contributions\\ocean_mesh\\outputs/eddy450.shp\")"
   ]
  },
  {
   "cell_type": "markdown",
   "id": "bca34405-4ecc-44a1-a4a5-65857eb25124",
   "metadata": {},
   "source": [
    "## Find transition zones2:"
   ]
  },
  {
   "cell_type": "code",
   "execution_count": 57,
   "id": "489ebe6a-0d4a-4a46-ba31-6cdfee385199",
   "metadata": {},
   "outputs": [],
   "source": [
    "not_trans= pd.concat([eddy,non_eddy])\n",
    "not_trans = not_trans.dissolve()"
   ]
  },
  {
   "cell_type": "code",
   "execution_count": 58,
   "id": "4405aca5-1938-478d-9ab5-0dead5ed7c03",
   "metadata": {},
   "outputs": [],
   "source": [
    "xmin, ymin, xmax, ymax = not_trans['geometry'].bounds.values[0]"
   ]
  },
  {
   "cell_type": "code",
   "execution_count": 59,
   "id": "8790aed6-2a4e-4bf4-a60f-26643c91e175",
   "metadata": {},
   "outputs": [],
   "source": [
    "shape_box = box(xmin, ymin, xmax, ymax)"
   ]
  },
  {
   "cell_type": "code",
   "execution_count": 62,
   "id": "e5251165-1c73-444e-b6d1-d5065d7c44ac",
   "metadata": {},
   "outputs": [],
   "source": [
    "transition = gpd.GeoDataFrame(geometry=[shape_box.symmetric_difference(not_trans.union_all())],\n",
    "                               #crs=crs\n",
    "                              ).dissolve().explode()"
   ]
  },
  {
   "cell_type": "code",
   "execution_count": 63,
   "id": "f5a1c9b2-ce20-4567-a6c3-e06b97afd4e8",
   "metadata": {},
   "outputs": [
    {
     "name": "stderr",
     "output_type": "stream",
     "text": [
      "C:\\Users\\Felicio.Cassalho\\.conda\\envs\\ocsmesh_161\\Lib\\site-packages\\pyogrio\\raw.py:698: UserWarning: 'crs' was not provided.  The output dataset will not have projection information defined and may not be usable in other systems.\n",
      "  warnings.warn(\n"
     ]
    }
   ],
   "source": [
    "transition.to_file(r\"C:\\Users\\Felicio.Cassalho\\Work\\Python_Development\\Mesh\\OCSMesh_Contributions\\ocean_mesh\\outputs/transition.shp\")"
   ]
  },
  {
   "cell_type": "code",
   "execution_count": null,
   "id": "2abeeefa-d826-4220-a5bf-7661ca7dcd8a",
   "metadata": {},
   "outputs": [],
   "source": []
  },
  {
   "cell_type": "code",
   "execution_count": null,
   "id": "06baa6eb-b209-4d0e-b132-a239aef2a1ab",
   "metadata": {},
   "outputs": [],
   "source": []
  },
  {
   "cell_type": "code",
   "execution_count": 47,
   "id": "29680a5c-8c20-4093-9d8d-37dd37d405d6",
   "metadata": {},
   "outputs": [],
   "source": [
    "not_eddy = pd.concat([transition,non_eddy])\n",
    "not_eddy = not_eddy.dissolve()\n",
    "# xmin, ymin, xmax, ymax = not_eddy['geometry'].bounds.values[0]"
   ]
  },
  {
   "cell_type": "code",
   "execution_count": 48,
   "id": "47f38fb1-a40a-4f93-87e5-ad21c37c9ebb",
   "metadata": {},
   "outputs": [],
   "source": [
    "xmin, ymin, xmax, ymax = transition.dissolve()['geometry'].bounds.values[0]"
   ]
  },
  {
   "cell_type": "code",
   "execution_count": 49,
   "id": "92bc4747-d156-4a8a-9b15-183b10fc04f8",
   "metadata": {},
   "outputs": [],
   "source": [
    "shape_box = box(xmin, ymin, xmax, ymax)"
   ]
  },
  {
   "cell_type": "code",
   "execution_count": 50,
   "id": "d2d52ea0-67b0-437d-a416-d5b6702f78f4",
   "metadata": {},
   "outputs": [],
   "source": [
    "other_zones = gpd.GeoDataFrame(geometry=[shape_box.symmetric_difference(not_eddy.union_all())],\n",
    "                               #crs=crs\n",
    "                              ).dissolve().explode()"
   ]
  },
  {
   "cell_type": "code",
   "execution_count": 51,
   "id": "5fc53d68-5759-483c-93f6-4cb9bad8fdb0",
   "metadata": {},
   "outputs": [
    {
     "name": "stderr",
     "output_type": "stream",
     "text": [
      "C:\\Users\\Felicio.Cassalho\\.conda\\envs\\ocsmesh_161\\Lib\\site-packages\\pyogrio\\raw.py:698: UserWarning: 'crs' was not provided.  The output dataset will not have projection information defined and may not be usable in other systems.\n",
      "  warnings.warn(\n"
     ]
    }
   ],
   "source": [
    "other_zones.to_file(r\"C:\\Users\\Felicio.Cassalho\\Work\\Python_Development\\Mesh\\OCSMesh_Contributions\\ocean_mesh\\outputs/other_zones.shp\")"
   ]
  },
  {
   "cell_type": "code",
   "execution_count": 52,
   "id": "17bc6ce7-92f5-4325-8df1-0bdc1c51069d",
   "metadata": {},
   "outputs": [],
   "source": [
    "import rasterio\n",
    "from rasterstats import zonal_stats\n",
    "\n",
    "# Read the raster\n",
    "with rasterio.open(rast_path) as raster:\n",
    "    affine = raster.transform\n",
    "    array = raster.read(1)"
   ]
  },
  {
   "cell_type": "code",
   "execution_count": 53,
   "id": "31eccd9d-a73f-41ed-9ba2-ab17b1362e15",
   "metadata": {},
   "outputs": [],
   "source": [
    "polygons = other_zones.explode()"
   ]
  },
  {
   "cell_type": "code",
   "execution_count": 54,
   "id": "9258add3-0462-4e21-8122-3ae931149fa7",
   "metadata": {},
   "outputs": [],
   "source": [
    "stats = zonal_stats(polygons, array, affine=affine, stats=\"median\")"
   ]
  },
  {
   "cell_type": "code",
   "execution_count": 55,
   "id": "3d40aada-b1b2-4fcd-8f81-ce049301c049",
   "metadata": {},
   "outputs": [],
   "source": [
    "# Calculate percentage\n",
    "median=[]\n",
    "for stat in stats:\n",
    "    m = stat[\"median\"]\n",
    "    median.append(m)"
   ]
  },
  {
   "cell_type": "code",
   "execution_count": 56,
   "id": "b6fbb0cc-0acc-4ef2-b4ad-35a11d2b84c0",
   "metadata": {},
   "outputs": [],
   "source": [
    "polygons['median']=median"
   ]
  },
  {
   "cell_type": "code",
   "execution_count": 57,
   "id": "a1fff095-0bc4-4ba7-851b-20fc300ca2ea",
   "metadata": {},
   "outputs": [],
   "source": [
    "eddy = polygons.loc[(polygons[\"median\"] <-750) ]"
   ]
  },
  {
   "cell_type": "code",
   "execution_count": 58,
   "id": "ad8e8b6c-6cd1-4927-a801-8c4ec36ebf91",
   "metadata": {},
   "outputs": [
    {
     "name": "stderr",
     "output_type": "stream",
     "text": [
      "C:\\Users\\Felicio.Cassalho\\.conda\\envs\\ocsmesh_161\\Lib\\site-packages\\pyogrio\\raw.py:698: UserWarning: 'crs' was not provided.  The output dataset will not have projection information defined and may not be usable in other systems.\n",
      "  warnings.warn(\n"
     ]
    }
   ],
   "source": [
    "eddy.to_file(r\"C:\\Users\\Felicio.Cassalho\\Work\\Python_Development\\Mesh\\OCSMesh_Contributions\\ocean_mesh\\outputs/eddy.shp\")"
   ]
  },
  {
   "cell_type": "code",
   "execution_count": null,
   "id": "20dfb4fd-d3b3-4564-906e-fd9254bbd053",
   "metadata": {},
   "outputs": [],
   "source": []
  },
  {
   "cell_type": "code",
   "execution_count": null,
   "id": "8c013e43-3a63-44d9-8a56-605d80266fdf",
   "metadata": {},
   "outputs": [],
   "source": []
  },
  {
   "cell_type": "code",
   "execution_count": null,
   "id": "49e2578d-2751-4d79-b84d-ca2681ccc384",
   "metadata": {},
   "outputs": [],
   "source": []
  },
  {
   "cell_type": "code",
   "execution_count": null,
   "id": "5679ffbc-6bac-48ff-b7a8-396bda62b3b0",
   "metadata": {},
   "outputs": [],
   "source": []
  },
  {
   "cell_type": "code",
   "execution_count": null,
   "id": "195e0f68-fe71-435b-88ca-88617bf1b229",
   "metadata": {},
   "outputs": [],
   "source": []
  },
  {
   "cell_type": "code",
   "execution_count": null,
   "id": "75390c25-df39-4d8b-bd7c-f20fe395089e",
   "metadata": {},
   "outputs": [],
   "source": []
  },
  {
   "cell_type": "code",
   "execution_count": 12,
   "id": "be7be38f-1eda-4bc0-9ffb-65db884ddab1",
   "metadata": {},
   "outputs": [],
   "source": [
    "elev.loc[(elev['sid'] > -20) & (elev['sid'] < -10), 'range'] = '-20--10'"
   ]
  },
  {
   "cell_type": "code",
   "execution_count": 14,
   "id": "884fb2bb-ec31-49c0-bd17-c152f02c08d3",
   "metadata": {},
   "outputs": [],
   "source": [
    "elev.loc[(elev['sid'] > -30) & (elev['sid'] < -20), 'range'] = '-30--20'"
   ]
  },
  {
   "cell_type": "code",
   "execution_count": 15,
   "id": "2a82e469-71a6-475a-8246-b69c84007c80",
   "metadata": {},
   "outputs": [],
   "source": [
    "elev.loc[(elev['sid'] > -40) & (elev['sid'] < -30), 'range'] = '-40--30'"
   ]
  },
  {
   "cell_type": "code",
   "execution_count": 16,
   "id": "2854c4df-5372-4ab1-8bcd-d1083e34a61e",
   "metadata": {},
   "outputs": [],
   "source": [
    "elev.loc[(elev['sid'] > -50) & (elev['sid'] < -40), 'range'] = '-50--40'"
   ]
  },
  {
   "cell_type": "code",
   "execution_count": 24,
   "id": "156d6dfe-abb8-441a-9e33-e5ef88fc44a3",
   "metadata": {},
   "outputs": [],
   "source": [
    "elev = elev.dissolve(by='range').dropna()"
   ]
  },
  {
   "cell_type": "code",
   "execution_count": 25,
   "id": "403fa011-497e-45ed-a3cc-a0fdee4a05d5",
   "metadata": {},
   "outputs": [],
   "source": [
    "elev.to_file(outdir+r\"/greater_50_by10.shp\")"
   ]
  },
  {
   "cell_type": "code",
   "execution_count": null,
   "id": "0eb194f5-2b89-49b0-a43d-7ad290b8c498",
   "metadata": {},
   "outputs": [],
   "source": []
  },
  {
   "cell_type": "code",
   "execution_count": 29,
   "id": "b1d6c41f-3d16-4985-8ade-7f865aeff75b",
   "metadata": {},
   "outputs": [
    {
     "data": {
      "text/plain": [
       "array([[-9.9990000e+03, -9.9990000e+03, -9.9990000e+03, ...,\n",
       "        -9.9990000e+03, -9.9990000e+03, -9.9990000e+03],\n",
       "       [-9.9990000e+03,  4.8916068e-02,  9.7832069e-02, ...,\n",
       "         6.2382107e+00,  6.0996137e+00, -9.9990000e+03],\n",
       "       [-9.9990000e+03,  4.8916068e-02,  9.0196721e-02, ...,\n",
       "         1.6019108e+00,  1.0691147e+00, -9.9990000e+03],\n",
       "       ...,\n",
       "       [-9.9990000e+03,  3.0937243e-02,  2.1875935e-02, ...,\n",
       "         2.4457891e-01,  3.0937243e-02, -9.9990000e+03],\n",
       "       [-9.9990000e+03,  4.8916068e-02,  6.5627784e-02, ...,\n",
       "         5.0739527e-01,  1.4674792e-01, -9.9990000e+03],\n",
       "       [-9.9990000e+03, -9.9990000e+03, -9.9990000e+03, ...,\n",
       "        -9.9990000e+03, -9.9990000e+03, -9.9990000e+03]], dtype=float32)"
      ]
     },
     "execution_count": 29,
     "metadata": {},
     "output_type": "execute_result"
    }
   ],
   "source": [
    "calculate_slope(rast_path)"
   ]
  },
  {
   "cell_type": "code",
   "execution_count": 30,
   "id": "aab916cc-2f1c-4dd6-9120-c1da809dedcc",
   "metadata": {},
   "outputs": [],
   "source": [
    "slope_path =r\"C:\\Users\\Felicio.Cassalho\\Work\\Python_Development\\Mesh\\OCSMesh_Contributions\\ocean_mesh\\slope.tif\""
   ]
  },
  {
   "cell_type": "code",
   "execution_count": 34,
   "id": "884accd6-f486-4ea8-9a6d-e3ff19478f92",
   "metadata": {},
   "outputs": [],
   "source": [
    "get_survey_shapes(path=slope_path,hmax=.5,hmin=0,outdir=outdir+r\"/slope05.shp\")"
   ]
  },
  {
   "cell_type": "code",
   "execution_count": 37,
   "id": "b5cdaa8f-c4af-4ba3-833d-131a50f6dc1d",
   "metadata": {},
   "outputs": [],
   "source": [
    "slope = gpd.read_file(r\"C:\\Users\\Felicio.Cassalho\\Work\\Python_Development\\Mesh\\OCSMesh_Contributions\\ocean_mesh\\outputs/slope05.shp\")"
   ]
  },
  {
   "cell_type": "code",
   "execution_count": 40,
   "id": "c962449d-14fe-411b-ace7-2c926050e78d",
   "metadata": {},
   "outputs": [],
   "source": [
    "elev = gpd.read_file(r\"C:\\Users\\Felicio.Cassalho\\Work\\Python_Development\\Mesh\\OCSMesh_Contributions\\ocean_mesh\\outputs/greater_50.shp\")"
   ]
  },
  {
   "cell_type": "code",
   "execution_count": 50,
   "id": "fa3f2f0d-ab2c-4503-a2c6-f0fb15f42c1e",
   "metadata": {},
   "outputs": [
    {
     "name": "stderr",
     "output_type": "stream",
     "text": [
      "C:\\Users\\Felicio.Cassalho\\AppData\\Local\\Temp\\1\\ipykernel_10168\\1626583161.py:1: UserWarning: `keep_geom_type=True` in overlay resulted in 594 dropped geometries of different geometry types than df1 has. Set `keep_geom_type=False` to retain all geometries\n",
      "  result = gpd.overlay(elev, slope, how='union')\n"
     ]
    }
   ],
   "source": [
    "result = gpd.overlay(elev, slope, how='union')"
   ]
  },
  {
   "cell_type": "code",
   "execution_count": 51,
   "id": "1cf8b235-e53c-4cbb-95f7-28d71247777b",
   "metadata": {},
   "outputs": [],
   "source": [
    "result.to_file(r\"C:\\Users\\Felicio.Cassalho\\Work\\Python_Development\\Mesh\\OCSMesh_Contributions\\ocean_mesh\\outputs/result.shp\")"
   ]
  },
  {
   "cell_type": "code",
   "execution_count": 63,
   "id": "8128442f-ab21-48d9-92f7-b9875e7c301f",
   "metadata": {},
   "outputs": [],
   "source": [
    "#combined = pd.concat([elev.explode(),slope.explode()])"
   ]
  },
  {
   "cell_type": "code",
   "execution_count": null,
   "id": "38a68673-1de9-4775-9ab4-de15491d86ae",
   "metadata": {},
   "outputs": [],
   "source": []
  },
  {
   "cell_type": "code",
   "execution_count": null,
   "id": "77cb40d3-2e81-407b-a341-6073c8205b7c",
   "metadata": {},
   "outputs": [],
   "source": []
  },
  {
   "cell_type": "code",
   "execution_count": 32,
   "id": "d1694ab6-12f0-45eb-b4d9-d2e871622e2b",
   "metadata": {},
   "outputs": [],
   "source": [
    "# import itertools\n",
    "# geoms = combined['geometry'].tolist()\n",
    "# union_iter = gpd.GeoDataFrame(gpd.GeoSeries([poly[0].union(poly[1]) for poly in  itertools.combinations(geoms, 2) if poly[0].union(poly[1])]), columns=['geometry'])\n",
    "# union_iter.to_file(r\"C:\\Users\\Felicio.Cassalho\\Work\\Python_Development\\Mesh\\OCSMesh_Contributions\\ocean_mesh\\outputs/intersection_iter.shp\") "
   ]
  },
  {
   "cell_type": "code",
   "execution_count": null,
   "id": "839218ac-fe89-48ba-a6ce-eefefc5827f5",
   "metadata": {},
   "outputs": [],
   "source": []
  }
 ],
 "metadata": {
  "kernelspec": {
   "display_name": "ocsmesh_161",
   "language": "python",
   "name": "ocsmesh_161"
  },
  "language_info": {
   "codemirror_mode": {
    "name": "ipython",
    "version": 3
   },
   "file_extension": ".py",
   "mimetype": "text/x-python",
   "name": "python",
   "nbconvert_exporter": "python",
   "pygments_lexer": "ipython3",
   "version": "3.12.5"
  }
 },
 "nbformat": 4,
 "nbformat_minor": 5
}
