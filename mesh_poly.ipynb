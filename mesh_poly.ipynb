{
 "cells": [
  {
   "cell_type": "code",
   "execution_count": 1,
   "id": "87f1abc5-f377-4248-848a-cef49f8791fb",
   "metadata": {},
   "outputs": [],
   "source": [
    "import ocsmesh\n",
    "import geopandas as gpd"
   ]
  },
  {
   "cell_type": "code",
   "execution_count": 7,
   "id": "2d514ecb-86b8-40e7-851f-ee339e16c0a8",
   "metadata": {},
   "outputs": [],
   "source": [
    "path=r\"C:\\Users\\Felicio.Cassalho\\Work\\Modeling\\OCSMesh_Paper\\STOFS3D_RUNS/\""
   ]
  },
  {
   "cell_type": "code",
   "execution_count": 3,
   "id": "cdfaac7b-0107-4835-abb5-e7aaa4efe21b",
   "metadata": {},
   "outputs": [],
   "source": [
    "mesh = ocsmesh.Mesh.open(path+'R08/hgrid.gr3', crs=4326)\n",
    "poly = ocsmesh.utils.get_mesh_polygons(mesh.msh_t)\n",
    "gdf = gpd.GeoDataFrame(geometry=[poly], crs=4326)"
   ]
  },
  {
   "cell_type": "code",
   "execution_count": 14,
   "id": "05792f7a-9a89-4c6e-81ea-1a939545e370",
   "metadata": {},
   "outputs": [],
   "source": [
    "gdf.to_file(path+'shapefiles/stofs3.shp')"
   ]
  },
  {
   "cell_type": "code",
   "execution_count": 12,
   "id": "dbfa39eb-4a17-4b5c-8438-9685f6ad21f8",
   "metadata": {},
   "outputs": [
    {
     "name": "stderr",
     "output_type": "stream",
     "text": [
      "C:\\Users\\Felicio.Cassalho\\AppData\\Local\\Temp\\1\\ipykernel_22060\\540075403.py:1: UserWarning: Geometry is in a geographic CRS. Results from 'buffer' are likely incorrect. Use 'GeoSeries.to_crs()' to re-project geometries to a projected CRS before this operation.\n",
      "\n",
      "  gdf_b = gpd.GeoDataFrame(geometry=[poly], crs=4326).buffer(0.01)\n"
     ]
    }
   ],
   "source": [
    "gdf_b = gpd.GeoDataFrame(geometry=[poly], crs=4326).buffer(0.01)"
   ]
  },
  {
   "cell_type": "code",
   "execution_count": 13,
   "id": "c44a96bc-1d22-434a-94e0-6078defd89ca",
   "metadata": {},
   "outputs": [],
   "source": [
    "gdf_b.to_file(path+'shapefiles/stofs3dmask_buffer.shp')"
   ]
  },
  {
   "cell_type": "code",
   "execution_count": null,
   "id": "7dfaf142-5b81-424e-9b7d-49801d98803e",
   "metadata": {},
   "outputs": [],
   "source": []
  }
 ],
 "metadata": {
  "kernelspec": {
   "display_name": "model_vis",
   "language": "python",
   "name": "model_vis"
  },
  "language_info": {
   "codemirror_mode": {
    "name": "ipython",
    "version": 3
   },
   "file_extension": ".py",
   "mimetype": "text/x-python",
   "name": "python",
   "nbconvert_exporter": "python",
   "pygments_lexer": "ipython3",
   "version": "3.9.19"
  }
 },
 "nbformat": 4,
 "nbformat_minor": 5
}
