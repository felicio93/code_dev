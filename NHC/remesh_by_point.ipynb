{
 "cells": [
  {
   "cell_type": "code",
   "execution_count": 1,
   "id": "6b6b303d-9675-4c6c-8702-455ba6acad8d",
   "metadata": {},
   "outputs": [],
   "source": [
    "import ocsmesh\n",
    "import geopandas as gpd"
   ]
  },
  {
   "cell_type": "code",
   "execution_count": 7,
   "id": "07c2d523-8e7a-40aa-9628-d3f0a787991f",
   "metadata": {},
   "outputs": [],
   "source": [
    "## Inputs:\n",
    "path = r\"C:\\Users\\Felicio.Cassalho\\Work/Modeling/NHC/\"\n",
    "points = gpd.read_file(path+\"/sample.shp\")\n",
    "stofs_mesh = ocsmesh.Mesh.open(path+\"/stofs_mesh.2dm\", crs=4326).msh_t"
   ]
  },
  {
   "cell_type": "code",
   "execution_count": 3,
   "id": "6c98967f-974c-4d9a-a9fe-24d186a4782c",
   "metadata": {},
   "outputs": [],
   "source": [
    "# Here you control the size of the area to be re-meshed\n",
    "clip_gdf = gpd.GeoDataFrame(geometry =\n",
    "                              gpd.GeoSeries(points.union_all().buffer(0.005)),\n",
    "                                crs=4326).explode()\n",
    "# clip_gdf.to_file(path+\"/clip_gdf.shp\")"
   ]
  },
  {
   "cell_type": "code",
   "execution_count": 4,
   "id": "bd39927e-a8ff-41da-bb19-f3f155c6e89a",
   "metadata": {},
   "outputs": [],
   "source": [
    "# Creating the mesh for the area above (if you want to change the mesh resolution, change the decimal value below):\n",
    "clip_mesh = ocsmesh.utils.triangulate_polygon(clip_gdf,opts='pq30a.0000002')\n",
    "# ocsmesh.Mesh(clip_mesh).write(path+\"/clip_mesh.2dm\", format='2dm', overwrite=True)"
   ]
  },
  {
   "cell_type": "code",
   "execution_count": null,
   "id": "e7587568-f1a2-4b8b-803c-ff8da853c211",
   "metadata": {},
   "outputs": [],
   "source": [
    "## Carve the STOFS mesh with the clip_mesh. Here buffer size and adjacent layers control how much you will erode from the STOFS mesh\n",
    "carved_mesh = ocsmesh.utils.clip_mesh_by_mesh(stofs_mesh,\n",
    "                                              clip_mesh,\n",
    "                                              adjacent_layers=2,\n",
    "                                              buffer_size=0.0075\n",
    "                                              )\n",
    "# ocsmesh.Mesh(carved_mesh).write(path+\"/carved_mesh.2dm\", format='2dm', overwrite=True)"
   ]
  },
  {
   "cell_type": "code",
   "execution_count": null,
   "id": "bddaa805-6bed-436a-b99c-91b90af1892e",
   "metadata": {},
   "outputs": [],
   "source": [
    "## This is a mesh between carved_mesh and clip_mesh\n",
    "buff_mesh = ocsmesh.utils.create_mesh_from_mesh_diff([stofs_mesh,clip_mesh],\n",
    "                                                     carved_mesh,\n",
    "                                                     clip_mesh,\n",
    "                                                     min_int_ang=25,\n",
    "                                                     buffer_domain=0.01,\n",
    "                                                     )\n",
    "# ocsmesh.Mesh(buff_mesh).write(path+\"/buff_mesh.2dm\", format='2dm', overwrite=True)"
   ]
  },
  {
   "cell_type": "code",
   "execution_count": null,
   "id": "f97c91bc-5529-4d89-ac03-7d0598cbd3b7",
   "metadata": {},
   "outputs": [],
   "source": [
    "## Now we just combined all the 3 meshes:\n",
    "msht_combined = ocsmesh.utils.merge_neighboring_meshes(buff_mesh,\n",
    "                                                       carved_mesh,\n",
    "                                                       clip_mesh\n",
    "                                                       )"
   ]
  },
  {
   "cell_type": "code",
   "execution_count": null,
   "id": "a8c71652-ec88-40ae-9d84-a471d68d9180",
   "metadata": {},
   "outputs": [],
   "source": [
    "## Final mesh cleanup:\n",
    "ocsmesh.utils.cleanup_duplicates(msht_combined)\n",
    "ocsmesh.utils.cleanup_isolates(msht_combined)\n",
    "ocsmesh.utils.put_id_tags(msht_combined)"
   ]
  },
  {
   "cell_type": "code",
   "execution_count": null,
   "id": "6e33ca62-b7e9-4233-a0fd-9129d6498753",
   "metadata": {},
   "outputs": [],
   "source": [
    "ocsmesh.Mesh(msht_combined).write(path+\"/final_mesh.2dm\", format='2dm', overwrite=True)"
   ]
  },
  {
   "cell_type": "code",
   "execution_count": null,
   "id": "c6655fc0-83d0-420b-96b0-982e215de1f7",
   "metadata": {},
   "outputs": [],
   "source": []
  }
 ],
 "metadata": {
  "kernelspec": {
   "display_name": "ak_vis",
   "language": "python",
   "name": "ak_vis"
  },
  "language_info": {
   "codemirror_mode": {
    "name": "ipython",
    "version": 3
   },
   "file_extension": ".py",
   "mimetype": "text/x-python",
   "name": "python",
   "nbconvert_exporter": "python",
   "pygments_lexer": "ipython3",
   "version": "3.10.16"
  }
 },
 "nbformat": 4,
 "nbformat_minor": 5
}
