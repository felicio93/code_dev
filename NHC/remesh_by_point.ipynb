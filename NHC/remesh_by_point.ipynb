{
 "cells": [
  {
   "cell_type": "code",
   "execution_count": 1,
   "id": "6b6b303d-9675-4c6c-8702-455ba6acad8d",
   "metadata": {},
   "outputs": [],
   "source": [
    "import ocsmesh\n",
    "import geopandas as gpd"
   ]
  },
  {
   "cell_type": "code",
   "execution_count": 2,
   "id": "fa598fef-00fb-4aae-9a51-49c421ab3a84",
   "metadata": {},
   "outputs": [],
   "source": [
    "## Inputs:\n",
    "path = r\"C:\\Users\\Felicio.Cassalho\\Work/Modeling/NHC/\"\n",
    "points = gpd.read_file(path+\"/sample.shp\")\n",
    "stofs_mesh = ocsmesh.Mesh.open(r\"C:\\Users\\Felicio.Cassalho\\Work\\Modeling\\OCSMesh_Paper\\STOFS_2D_RUN\\R05/hgrid.gr3\", crs=4326)"
   ]
  },
  {
   "cell_type": "code",
   "execution_count": 3,
   "id": "9cd37e76-8f00-4c69-94fb-5802dc316744",
   "metadata": {},
   "outputs": [],
   "source": [
    "## First we clip the STOFS mesh using the points. \n",
    "## I added a 0.011 deg buffer to the points, I am grabbing all nodes that fall within that buffer (no adjacent laryers)\n",
    "## This seems to be working, feel free to change the buffer size and adj layers.\n",
    "\n",
    "clip = ocsmesh.utils.clip_mesh_by_shape(stofs_mesh.msh_t, points.union_all().buffer(0.011), adjacent_layers=0)\n",
    "## if you want to see the clipped mesh uncomment below:\n",
    "#ocsmesh.Mesh(clip).write(path+\"/clip.2dm\", format='2dm', overwrite=True)"
   ]
  },
  {
   "cell_type": "code",
   "execution_count": 4,
   "id": "3754a44c-0dc1-46cc-bc99-835d4c94a2dc",
   "metadata": {},
   "outputs": [],
   "source": [
    "## Converting the mesh clip to polygon: \n",
    "clip_poly = ocsmesh.utils.get_mesh_polygons(clip)\n",
    "clip_gdf = gpd.GeoDataFrame(geometry =\n",
    "                              gpd.GeoSeries(clip_poly),\n",
    "                                crs=4326).explode()\n",
    "# you can save the geodataframe as a shapefile and open on QGis if needed"
   ]
  },
  {
   "cell_type": "code",
   "execution_count": 5,
   "id": "376d7ced-d403-4fe7-ad53-6178ac25cf6e",
   "metadata": {},
   "outputs": [],
   "source": [
    "## This is the main line of code. \n",
    "## This uses the Triangle library (very light weight and efficient) to create a mesh for the polygon above (clips)\n",
    "## note the opts:\n",
    "## q means exact (will preserve the boundaries)\n",
    "## q30 will ensure that the internal angles of the mesh will be at least 30 deg.\n",
    "## a.0000002 is the area of the max area triangles (this seems to be +- 50 m), change accordingly\n",
    "clip_mesh = ocsmesh.utils.triangulate_polygon(clip_gdf,opts='pq30a.0000002')\n",
    "\n",
    "## save the mesh if you want to visualize it:\n",
    "## ocsmesh.Mesh(clip_mesh).write(path+\"/clip_mesh.2dm\", format='2dm', overwrite=True)"
   ]
  },
  {
   "cell_type": "code",
   "execution_count": 6,
   "id": "2df4ea1b-07c4-42d4-a0e8-7fb7a9f843b1",
   "metadata": {},
   "outputs": [
    {
     "data": {
      "text/plain": [
       "<ocsmesh.mesh.mesh.EuclideanMesh2D at 0x17ec1a7dc30>"
      ]
     },
     "execution_count": 6,
     "metadata": {},
     "output_type": "execute_result"
    }
   ],
   "source": [
    "stofs_mesh"
   ]
  },
  {
   "cell_type": "code",
   "execution_count": null,
   "id": "7c5c18ed-353f-4bb3-a819-e5f28d093c68",
   "metadata": {},
   "outputs": [],
   "source": [
    "## Now we just merge the clip_mesh to the stofs mesh:\n",
    "final_mesh = ocsmesh.utils.merge_overlapping_meshes([stofs_mesh.msh_t,clip_mesh],adjacent_layers=2,buffer_size = 0.0005)"
   ]
  },
  {
   "cell_type": "code",
   "execution_count": null,
   "id": "f3117a33-b0eb-47ff-b41b-de677217cec4",
   "metadata": {},
   "outputs": [],
   "source": [
    "ocsmesh.Mesh(final_mesh).write(path+\"/final_mesh.2dm\", format='2dm', overwrite=True)"
   ]
  },
  {
   "cell_type": "code",
   "execution_count": null,
   "id": "09138ff5-e68f-4161-a8c7-d92aa238c728",
   "metadata": {},
   "outputs": [],
   "source": []
  }
 ],
 "metadata": {
  "kernelspec": {
   "display_name": "ak_vis",
   "language": "python",
   "name": "ak_vis"
  },
  "language_info": {
   "codemirror_mode": {
    "name": "ipython",
    "version": 3
   },
   "file_extension": ".py",
   "mimetype": "text/x-python",
   "name": "python",
   "nbconvert_exporter": "python",
   "pygments_lexer": "ipython3",
   "version": "3.10.16"
  }
 },
 "nbformat": 4,
 "nbformat_minor": 5
}
