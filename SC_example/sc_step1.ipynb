{
 "cells": [
  {
   "cell_type": "code",
   "execution_count": 1,
   "id": "3c5c26cd-1e5a-4660-96c2-26e963704aa5",
   "metadata": {},
   "outputs": [],
   "source": [
    "import ocsmesh\n",
    "import geopandas as gpd"
   ]
  },
  {
   "cell_type": "markdown",
   "id": "5e306eb3-feee-4e99-8415-d5689e60bde7",
   "metadata": {},
   "source": [
    "### Set Paths:"
   ]
  },
  {
   "cell_type": "code",
   "execution_count": 2,
   "id": "c9190af7-9677-45f9-865d-76c4b894fd84",
   "metadata": {},
   "outputs": [],
   "source": [
    "path = r\"C:\\Users\\Felicio.Cassalho\\Work\\Modeling\\SCHISM\\SC_3D_SETUP\\meshes/\""
   ]
  },
  {
   "cell_type": "markdown",
   "id": "b7053ddf-97b9-4793-9c4e-35b266176145",
   "metadata": {},
   "source": [
    "### Convert Format:"
   ]
  },
  {
   "cell_type": "code",
   "execution_count": 3,
   "id": "3e3bf49d-2d9b-470d-9abf-03fd1f2021b4",
   "metadata": {},
   "outputs": [],
   "source": [
    "stofs_mesh = ocsmesh.Mesh.open(path+'hgrid.gr3', crs=4326)\n",
    "stofs_mesh.write(path+'stofs_mesh.2dm', format='2dm', overwrite=True)"
   ]
  },
  {
   "cell_type": "markdown",
   "id": "eae6ab10-fd6b-4eca-90ae-b685b0d01e1d",
   "metadata": {},
   "source": [
    "### Clip STOFS Mesh:"
   ]
  },
  {
   "cell_type": "code",
   "execution_count": 4,
   "id": "3e9d9820-469f-4ef4-88a2-b39352775a80",
   "metadata": {},
   "outputs": [],
   "source": [
    "domain = gpd.read_file(path+'domain.shp')\n",
    "clipped_stofs_mesh = ocsmesh.utils.clip_mesh_by_shape(stofs_mesh.msh_t,domain.union_all())\n",
    "ocsmesh.Mesh(clipped_stofs_mesh).write(path+'clipped_stofs_mesh.2dm', format='2dm', overwrite=True)"
   ]
  },
  {
   "cell_type": "markdown",
   "id": "fc76860b-6991-489a-8646-4904708b0182",
   "metadata": {},
   "source": [
    "### Set Open Boundary:"
   ]
  },
  {
   "cell_type": "code",
   "execution_count": 5,
   "id": "99d63d4b-0f93-49eb-853d-565db9249427",
   "metadata": {},
   "outputs": [],
   "source": [
    "open_b = gpd.read_file(path+\"open_b.shp\")\n",
    "clipped_stofs_mesh = ocsmesh.Mesh(clipped_stofs_mesh)\n",
    "clipped_stofs_mesh.boundaries.auto_generate(threshold=-999999)\n",
    "clipped_stofs_mesh.boundaries.set_open(open_b.union_all(), merge=True)\n",
    "clipped_stofs_mesh.write(path+'clipped_stofs_mesh.gr3', format='grd', overwrite=True)"
   ]
  },
  {
   "cell_type": "code",
   "execution_count": null,
   "id": "1e0ce402-f246-49d7-a062-df0ef9d0bc4b",
   "metadata": {},
   "outputs": [],
   "source": []
  }
 ],
 "metadata": {
  "kernelspec": {
   "display_name": "ocsmesh_paper",
   "language": "python",
   "name": "ocsmesh_paper"
  },
  "language_info": {
   "codemirror_mode": {
    "name": "ipython",
    "version": 3
   },
   "file_extension": ".py",
   "mimetype": "text/x-python",
   "name": "python",
   "nbconvert_exporter": "python",
   "pygments_lexer": "ipython3",
   "version": "3.12.8"
  }
 },
 "nbformat": 4,
 "nbformat_minor": 5
}
